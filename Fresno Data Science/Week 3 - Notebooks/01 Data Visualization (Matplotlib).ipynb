{
 "cells": [
  {
   "cell_type": "markdown",
   "metadata": {},
   "source": [
    "# Data Visualization (Matplotlib)"
   ]
  },
  {
   "cell_type": "code",
   "execution_count": null,
   "metadata": {},
   "outputs": [],
   "source": [
    "import pandas as pd\n",
    "import matplotlib.pyplot as plt"
   ]
  },
  {
   "cell_type": "markdown",
   "metadata": {},
   "source": [
    "### Dataset: Heart Disease"
   ]
  },
  {
   "cell_type": "code",
   "execution_count": null,
   "metadata": {},
   "outputs": [],
   "source": [
    "df = pd.read_csv(\"heart-disease.csv\")\n",
    "\n",
    "df.head()"
   ]
  },
  {
   "cell_type": "markdown",
   "metadata": {},
   "source": [
    "## Figures and Axes"
   ]
  },
  {
   "cell_type": "code",
   "execution_count": null,
   "metadata": {},
   "outputs": [],
   "source": [
    "# subplots() returns a figure and axes (unpacked)\n",
    "\n",
    "fig, ax = plt.subplots()   "
   ]
  },
  {
   "cell_type": "markdown",
   "metadata": {},
   "source": [
    "---"
   ]
  },
  {
   "cell_type": "markdown",
   "metadata": {},
   "source": [
    "# Line Plot"
   ]
  },
  {
   "cell_type": "code",
   "execution_count": null,
   "metadata": {},
   "outputs": [],
   "source": [
    "# Defaults to display the index of the row on the x axis\n",
    "\n",
    "fig, ax = plt.subplots()\n",
    "\n",
    "ax.plot(df[\"max_hr\"]);"
   ]
  },
  {
   "cell_type": "markdown",
   "metadata": {},
   "source": [
    "## Set properties"
   ]
  },
  {
   "cell_type": "code",
   "execution_count": null,
   "metadata": {},
   "outputs": [],
   "source": [
    "fig, ax = plt.subplots()\n",
    "\n",
    "ax.plot(df[\"max_hr\"]);\n",
    "\n",
    "# A more convenient way of setting properties\n",
    "ax.set(title=\"Line Plot\", xlabel=\"Row Index\", ylabel=\"Max HR\");"
   ]
  },
  {
   "cell_type": "code",
   "execution_count": null,
   "metadata": {},
   "outputs": [],
   "source": [
    "fig, ax = plt.subplots()\n",
    "\n",
    "ax.plot(df[\"max_hr\"]);\n",
    "\n",
    "# A more flexible way of setting properties\n",
    "ax.set_title(\"Line Plot\")\n",
    "ax.set_xlabel(\"Row Index\")\n",
    "ax.set_ylabel(\"Max HR\");"
   ]
  },
  {
   "cell_type": "markdown",
   "metadata": {},
   "source": [
    "## Create multiple plots"
   ]
  },
  {
   "cell_type": "markdown",
   "metadata": {},
   "source": [
    "### Separate rows"
   ]
  },
  {
   "cell_type": "code",
   "execution_count": null,
   "metadata": {},
   "outputs": [],
   "source": [
    "# Render plots in separate axes;   subplots(n_rows, n_cols)\n",
    "# 2 rows\n",
    "\n",
    "fig, axes = plt.subplots(2)\n",
    "\n",
    "axes[0].plot(df[\"max_hr\"])\n",
    "axes[1].plot(df[\"age\"]);"
   ]
  },
  {
   "cell_type": "code",
   "execution_count": null,
   "metadata": {},
   "outputs": [],
   "source": [
    "# Render plots in separate axes;   subplots(n_rows, n_cols)\n",
    "# 2 rows\n",
    "\n",
    "fig, (top, bot) = plt.subplots(2)\n",
    "\n",
    "top.plot(df[\"max_hr\"])\n",
    "bot.plot(df[\"age\"]);"
   ]
  },
  {
   "cell_type": "markdown",
   "metadata": {},
   "source": [
    "### Separate columns"
   ]
  },
  {
   "cell_type": "code",
   "execution_count": null,
   "metadata": {},
   "outputs": [],
   "source": [
    "# Render plots in separate axes;   subplots(n_rows, n_cols)\n",
    "# 1 row, 2 columns\n",
    "\n",
    "fig, (left, right) = plt.subplots(1,2)\n",
    "\n",
    "\n",
    "left.plot(df[\"max_hr\"])\n",
    "right.plot(df[\"age\"]);"
   ]
  },
  {
   "cell_type": "markdown",
   "metadata": {},
   "source": [
    "## Set the figsize"
   ]
  },
  {
   "cell_type": "code",
   "execution_count": null,
   "metadata": {},
   "outputs": [],
   "source": [
    "# Set the size of the figure  (figsize=(w, h))\n",
    "fig, (left, right) = plt.subplots(1,2, figsize=(15, 5))\n",
    "\n",
    "left.plot(df[\"max_hr\"])\n",
    "right.plot(df[\"age\"]); "
   ]
  },
  {
   "cell_type": "markdown",
   "metadata": {},
   "source": [
    "---"
   ]
  },
  {
   "cell_type": "markdown",
   "metadata": {},
   "source": [
    "# Histogram"
   ]
  },
  {
   "cell_type": "code",
   "execution_count": null,
   "metadata": {},
   "outputs": [],
   "source": [
    "fig, ax = plt.subplots()\n",
    "\n",
    "ax.hist(df['age'], color='g', edgecolor='black')\n",
    "\n",
    "ax.set(xlabel=\"Age\", title=\"Histogram\");\n",
    "\n",
    "\n",
    "# The basic built-in colors:\n",
    "# b: blue\n",
    "# g: green\n",
    "# r: red\n",
    "# c: cyan\n",
    "# m: magenta\n",
    "# y: yellow\n",
    "# k: black\n",
    "# w: white\n"
   ]
  },
  {
   "cell_type": "markdown",
   "metadata": {},
   "source": [
    "### Set the number of bins to display"
   ]
  },
  {
   "cell_type": "code",
   "execution_count": null,
   "metadata": {},
   "outputs": [],
   "source": [
    "fig, ax = plt.subplots()\n",
    "\n",
    "ax.hist(df['age'], color = 'g', edgecolor='black', bins = 30)\n",
    "\n",
    "ax.set(xlabel=\"Age\", title=\"Histogram\");"
   ]
  },
  {
   "cell_type": "markdown",
   "metadata": {},
   "source": [
    "### Set a custom color\n",
    "\n",
    "[Named Colors](https://matplotlib.org/stable/gallery/color/named_colors.html)\n",
    "\n",
    "[HTML Color Codes](https://htmlcolorcodes.com)"
   ]
  },
  {
   "cell_type": "code",
   "execution_count": null,
   "metadata": {},
   "outputs": [],
   "source": [
    "fig, ax = plt.subplots()\n",
    "\n",
    "ax.hist(df['age'], color = '#9033FF', edgecolor='black')\n",
    "\n",
    "ax.set_title('Histogram')\n",
    "ax.set_xlabel('Age');"
   ]
  },
  {
   "cell_type": "markdown",
   "metadata": {},
   "source": [
    "### Format the labels (increase font size)"
   ]
  },
  {
   "cell_type": "code",
   "execution_count": null,
   "metadata": {},
   "outputs": [],
   "source": [
    "fig, ax = plt.subplots()\n",
    "\n",
    "ax.hist(df['age'], color = '#9616FA', edgecolor='black')\n",
    "\n",
    "# Increase the font size of the labels\n",
    "ax.set_title('Histogram', fontsize=16)\n",
    "ax.set_xlabel('Age', fontsize=16);"
   ]
  },
  {
   "cell_type": "markdown",
   "metadata": {},
   "source": [
    "---"
   ]
  },
  {
   "cell_type": "markdown",
   "metadata": {},
   "source": [
    "# Boxplot"
   ]
  },
  {
   "cell_type": "code",
   "execution_count": null,
   "metadata": {},
   "outputs": [],
   "source": [
    "fig, ax = plt.subplots(figsize = (5, 3))\n",
    "\n",
    "ax.boxplot(df[\"age\"]);"
   ]
  },
  {
   "cell_type": "markdown",
   "metadata": {},
   "source": [
    "## Outliers\n",
    "Values greater than 1.5 of the IQR from the 1st or 3rd quartile."
   ]
  },
  {
   "cell_type": "code",
   "execution_count": null,
   "metadata": {},
   "outputs": [],
   "source": [
    "fig, ax = plt.subplots(figsize = (5, 3))\n",
    "\n",
    "ax.boxplot(df[\"rest_bp\"]);"
   ]
  },
  {
   "cell_type": "markdown",
   "metadata": {},
   "source": [
    "## Create paired boxplots"
   ]
  },
  {
   "cell_type": "markdown",
   "metadata": {},
   "source": [
    "### Using Ages for Data"
   ]
  },
  {
   "cell_type": "code",
   "execution_count": null,
   "metadata": {},
   "outputs": [],
   "source": [
    "female_ages = df.loc[df[\"sex\"] == \"female\", \"age\"]\n",
    "male_ages = df.loc[df[\"sex\"] == \"male\", \"age\"]"
   ]
  },
  {
   "cell_type": "code",
   "execution_count": null,
   "metadata": {},
   "outputs": [],
   "source": [
    "fig, ax = plt.subplots(figsize = (15, 5))\n",
    "                                                # labels for ticks\n",
    "ax.boxplot([female_ages, male_ages], labels = [\"Female ages\", \"Male ages\"])\n",
    "\n",
    "ax.set_xlabel('Gender', fontsize=16)\n",
    "ax.set_ylabel('Age', fontsize=16);"
   ]
  },
  {
   "cell_type": "markdown",
   "metadata": {},
   "source": [
    "### Set tick labels and modify fontsize"
   ]
  },
  {
   "cell_type": "code",
   "execution_count": null,
   "metadata": {},
   "outputs": [],
   "source": [
    "fig, ax = plt.subplots(figsize = (15, 5))\n",
    "                              \n",
    "ax.boxplot([female_ages, male_ages])\n",
    "\n",
    "ax.set_xlabel('Gender', fontsize=16)\n",
    "ax.set_ylabel('Age', fontsize=16);\n",
    "\n",
    "# more flexibility for styling tick labels\n",
    "ax.set_xticklabels([\"Female age\", \"Male age\"], fontsize=14, color = \"darkorange\");"
   ]
  },
  {
   "cell_type": "markdown",
   "metadata": {},
   "source": [
    "---"
   ]
  },
  {
   "cell_type": "markdown",
   "metadata": {},
   "source": [
    "# Scatter Plot"
   ]
  },
  {
   "cell_type": "code",
   "execution_count": null,
   "metadata": {},
   "outputs": [],
   "source": [
    "fig, ax = plt.subplots()\n",
    "\n",
    "#              (x-axis,       y-axis,      alpha,    size,     color)\n",
    "ax.scatter(x=df['age'], y=df['max_hr'], alpha=.3, s = 100, c = \"black\")\n",
    " \n",
    "# Set the properties\n",
    "ax.set(title=\"Heart Disease\", xlabel='Age', ylabel=\"Max HR\");"
   ]
  },
  {
   "cell_type": "markdown",
   "metadata": {},
   "source": [
    "### Auto-set the colors based on category membership\n",
    "The target variable must be an integer."
   ]
  },
  {
   "cell_type": "code",
   "execution_count": null,
   "metadata": {},
   "outputs": [],
   "source": [
    "fig, ax = plt.subplots()\n",
    "\n",
    "ax.scatter(df['age'], df['max_hr'], alpha=.3, s = 200, c = df[\"heart_disease\"])\n",
    "\n",
    "ax.set(title=\"Heart Disease\", xlabel='Age', ylabel=\"Max HR\");"
   ]
  },
  {
   "cell_type": "markdown",
   "metadata": {},
   "source": [
    "### Modify the colormap\n",
    "[Colormaps](https://matplotlib.org/stable/gallery/color/colormap_reference.html)"
   ]
  },
  {
   "cell_type": "code",
   "execution_count": null,
   "metadata": {},
   "outputs": [],
   "source": [
    "fig, ax = plt.subplots()\n",
    "\n",
    "ax.scatter(df['age'], df['max_hr'], alpha=.3, s = 200, c = df[\"heart_disease\"], cmap = \"winter\");"
   ]
  }
 ],
 "metadata": {
  "kernelspec": {
   "display_name": "Python 3 (ipykernel)",
   "language": "python",
   "name": "python3"
  },
  "language_info": {
   "codemirror_mode": {
    "name": "ipython",
    "version": 3
   },
   "file_extension": ".py",
   "mimetype": "text/x-python",
   "name": "python",
   "nbconvert_exporter": "python",
   "pygments_lexer": "ipython3",
   "version": "3.11.5"
  }
 },
 "nbformat": 4,
 "nbformat_minor": 4
}
